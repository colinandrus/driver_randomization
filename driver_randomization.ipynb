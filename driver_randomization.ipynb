{
 "cells": [
  {
   "cell_type": "code",
   "execution_count": 1,
   "metadata": {},
   "outputs": [],
   "source": [
    "import random\n",
    "import pandas as pd"
   ]
  },
  {
   "cell_type": "code",
   "execution_count": 2,
   "metadata": {},
   "outputs": [],
   "source": [
    "# for reproducibility\n",
    "random.seed(420)"
   ]
  },
  {
   "cell_type": "code",
   "execution_count": 3,
   "metadata": {},
   "outputs": [],
   "source": [
    "# our names in alphabetical order by last name\n",
    "gamblers = ['Colin Andrus',\n",
    "           'Justin Diego',\n",
    "           'Chris DuCharme',\n",
    "           'Jack Hill',\n",
    "           'Jackson McFall',\n",
    "           'Ben Pelle', \n",
    "           'Arjun Reddy', \n",
    "           'Colton Skavicus']"
   ]
  },
  {
   "cell_type": "code",
   "execution_count": 4,
   "metadata": {},
   "outputs": [],
   "source": [
    "# top 8 drivers for 2018 in current standings\n",
    "drivers = ['KYLE BUSCH', \n",
    "           'KEVIN HARVICK', \n",
    "           'MARTIN TRUEX JR.', \n",
    "           'KURT BUSCH', \n",
    "          'CLINT BOWYER',\n",
    "          'JOEY LOGANO',\n",
    "          'BRAD KESELOWSKI',\n",
    "          'KYLE LARSON']"
   ]
  },
  {
   "cell_type": "code",
   "execution_count": 5,
   "metadata": {},
   "outputs": [],
   "source": [
    "# randomly sort drivers\n",
    "random.shuffle(drivers)"
   ]
  },
  {
   "cell_type": "code",
   "execution_count": 6,
   "metadata": {},
   "outputs": [
    {
     "data": {
      "text/html": [
       "<div>\n",
       "<style>\n",
       "    .dataframe thead tr:only-child th {\n",
       "        text-align: right;\n",
       "    }\n",
       "\n",
       "    .dataframe thead th {\n",
       "        text-align: left;\n",
       "    }\n",
       "\n",
       "    .dataframe tbody tr th {\n",
       "        vertical-align: top;\n",
       "    }\n",
       "</style>\n",
       "<table border=\"1\" class=\"dataframe\">\n",
       "  <thead>\n",
       "    <tr style=\"text-align: right;\">\n",
       "      <th></th>\n",
       "      <th>driver</th>\n",
       "      <th>gambler</th>\n",
       "    </tr>\n",
       "  </thead>\n",
       "  <tbody>\n",
       "    <tr>\n",
       "      <th>0</th>\n",
       "      <td>KEVIN HARVICK</td>\n",
       "      <td>Colin Andrus</td>\n",
       "    </tr>\n",
       "    <tr>\n",
       "      <th>1</th>\n",
       "      <td>CLINT BOWYER</td>\n",
       "      <td>Justin Diego</td>\n",
       "    </tr>\n",
       "    <tr>\n",
       "      <th>2</th>\n",
       "      <td>KYLE LARSON</td>\n",
       "      <td>Chris DuCharme</td>\n",
       "    </tr>\n",
       "    <tr>\n",
       "      <th>3</th>\n",
       "      <td>KURT BUSCH</td>\n",
       "      <td>Jack Hill</td>\n",
       "    </tr>\n",
       "    <tr>\n",
       "      <th>4</th>\n",
       "      <td>BRAD KESELOWSKI</td>\n",
       "      <td>Jackson McFall</td>\n",
       "    </tr>\n",
       "    <tr>\n",
       "      <th>5</th>\n",
       "      <td>MARTIN TRUEX JR.</td>\n",
       "      <td>Ben Pelle</td>\n",
       "    </tr>\n",
       "    <tr>\n",
       "      <th>6</th>\n",
       "      <td>JOEY LOGANO</td>\n",
       "      <td>Arjun Reddy</td>\n",
       "    </tr>\n",
       "    <tr>\n",
       "      <th>7</th>\n",
       "      <td>KYLE BUSCH</td>\n",
       "      <td>Colton Skavicus</td>\n",
       "    </tr>\n",
       "  </tbody>\n",
       "</table>\n",
       "</div>"
      ],
      "text/plain": [
       "             driver          gambler\n",
       "0     KEVIN HARVICK     Colin Andrus\n",
       "1      CLINT BOWYER     Justin Diego\n",
       "2       KYLE LARSON   Chris DuCharme\n",
       "3        KURT BUSCH        Jack Hill\n",
       "4   BRAD KESELOWSKI   Jackson McFall\n",
       "5  MARTIN TRUEX JR.        Ben Pelle\n",
       "6       JOEY LOGANO      Arjun Reddy\n",
       "7        KYLE BUSCH  Colton Skavicus"
      ]
     },
     "execution_count": 6,
     "metadata": {},
     "output_type": "execute_result"
    }
   ],
   "source": [
    "# display results\n",
    "pd.DataFrame({'gambler':gamblers, 'driver':drivers})"
   ]
  },
  {
   "cell_type": "code",
   "execution_count": null,
   "metadata": {},
   "outputs": [],
   "source": []
  }
 ],
 "metadata": {
  "kernelspec": {
   "display_name": "Python 3",
   "language": "python",
   "name": "python3"
  },
  "language_info": {
   "codemirror_mode": {
    "name": "ipython",
    "version": 3
   },
   "file_extension": ".py",
   "mimetype": "text/x-python",
   "name": "python",
   "nbconvert_exporter": "python",
   "pygments_lexer": "ipython3",
   "version": "3.6.1"
  }
 },
 "nbformat": 4,
 "nbformat_minor": 2
}
